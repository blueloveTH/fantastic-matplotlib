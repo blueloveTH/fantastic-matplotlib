{
 "metadata": {
  "language_info": {
   "codemirror_mode": {
    "name": "ipython",
    "version": 3
   },
   "file_extension": ".py",
   "mimetype": "text/x-python",
   "name": "python",
   "nbconvert_exporter": "python",
   "pygments_lexer": "ipython3",
   "version": "3.7.8-final"
  },
  "orig_nbformat": 2,
  "kernelspec": {
   "name": "python3",
   "display_name": "Python 3.7.8 64-bit ('audio_compete')",
   "metadata": {
    "interpreter": {
     "hash": "c5723211694a88122bc37abe81cc45e6912fa49412aac89355dc5dcc21a57bee"
    }
   }
  }
 },
 "nbformat": 4,
 "nbformat_minor": 2,
 "cells": [
  {
   "cell_type": "code",
   "execution_count": null,
   "metadata": {},
   "outputs": [],
   "source": [
    "import matplotlib.pyplot as plt\n",
    "import numpy as np"
   ]
  },
  {
   "source": [
    "+ line\n",
    "+ errorbar\n",
    "+ hist\n",
    "+ bar\n",
    "+ polygon\n",
    "+ pie\n",
    "+ scatter\n",
    "+ image"
   ],
   "cell_type": "markdown",
   "metadata": {}
  },
  {
   "cell_type": "code",
   "execution_count": null,
   "metadata": {},
   "outputs": [],
   "source": [
    "fig, axes = plt.subplots(2, 4)\n",
    "fig.set_figheight(fig.get_figheight()*2)\n",
    "fig.set_figwidth(fig.get_figwidth()*4)\n",
    "axes = axes.reshape(-1)\n",
    "\n",
    "i = -1\n",
    "def get_axes():\n",
    "    global i\n",
    "    i += 1\n",
    "    return axes[i]"
   ]
  },
  {
   "cell_type": "code",
   "execution_count": null,
   "metadata": {},
   "outputs": [],
   "source": [
    "a = get_axes()\n",
    "\n",
    "a.plot(np.linspace(0, 2, 40), np.random.uniform(0, 1, 40))\n",
    "a.set_title('lineplot')"
   ]
  },
  {
   "cell_type": "code",
   "execution_count": null,
   "metadata": {},
   "outputs": [],
   "source": [
    "fig"
   ]
  },
  {
   "cell_type": "code",
   "execution_count": null,
   "metadata": {},
   "outputs": [],
   "source": []
  }
 ]
}